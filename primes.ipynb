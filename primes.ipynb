{
 "cells": [
  {
   "cell_type": "code",
   "execution_count": 7,
   "metadata": {},
   "outputs": [],
   "source": [
    "import numpy as np\n",
    "import csv"
   ]
  },
  {
   "cell_type": "code",
   "execution_count": 8,
   "id": "22733132",
   "metadata": {},
   "outputs": [],
   "source": [
    "# Load array of primes\n",
    "primes = np.loadtxt('./1m.csv', dtype='int', delimiter=',', skiprows=1)\n",
    "\n",
    "# Create set of primes\n",
    "primset = set(primes[:,1].tolist())"
   ]
  },
  {
   "cell_type": "code",
   "execution_count": 9,
   "id": "ce33f428",
   "metadata": {},
   "outputs": [],
   "source": [
    "# Find primes whose digits sum to a prime.\n",
    "# Method uses lists and arrays. Is not optimized.\n",
    "special_primes = []\n",
    "\n",
    "for row in primes:\n",
    "    total = sum(int(digit) for digit in str(row[1]))\n",
    "    if not (total == 2 or total % 2):\n",
    "        pass\n",
    "    elif total in primes[0:total,1]:\n",
    "        special_primes.append([int(row[1]), total])"
   ]
  },
  {
   "cell_type": "code",
   "execution_count": 10,
   "id": "213cf66a",
   "metadata": {},
   "outputs": [],
   "source": [
    "# Find primes whose digits sum to a prime.\n",
    "# Method uses sets which are hashtables. Also not optimized but much faster.\n",
    "special_primset = []\n",
    "\n",
    "for p in primset:\n",
    "    total = sum(int(digit) for digit in str(p))\n",
    "    if total in primset:\n",
    "        special_primset.append([p, total])"
   ]
  },
  {
   "cell_type": "code",
   "execution_count": 11,
   "id": "91979e48",
   "metadata": {},
   "outputs": [
    {
     "name": "stdout",
     "output_type": "stream",
     "text": [
      "[]\n"
     ]
    }
   ],
   "source": [
    "# Compare the two lists.\n",
    "\n",
    "special_primset.sort()\n",
    "\n",
    "diff = []\n",
    "\n",
    "if len(special_primes) != len(special_primset):\n",
    "    raise RuntimeError('Nonequal lengths.')\n",
    "\n",
    "for i in range(len(special_primset)):\n",
    "    d = special_primset[i][1] - special_primes[i][1]\n",
    "    if d!=0:\n",
    "        diff.append([i, d, special_primset[i], special_primes[i]])\n",
    "\n",
    "print(diff)"
   ]
  },
  {
   "cell_type": "code",
   "execution_count": null,
   "id": "70861e7c",
   "metadata": {},
   "outputs": [],
   "source": [
    "# Save the list to a csv file.\n",
    "save = False # Set to true to enable saving. This will overwrite files.\n",
    "if save:\n",
    "    np.savetxt('primes_whose_digits_sum_to_primes.csv', special_primset, delimiter=',', fmt='%d', header='Prime,Sum of Digits')"
   ]
  }
 ],
 "metadata": {
  "kernelspec": {
   "display_name": ".venv",
   "language": "python",
   "name": "python3"
  },
  "language_info": {
   "codemirror_mode": {
    "name": "ipython",
    "version": 3
   },
   "file_extension": ".py",
   "mimetype": "text/x-python",
   "name": "python",
   "nbconvert_exporter": "python",
   "pygments_lexer": "ipython3",
   "version": "3.13.1"
  }
 },
 "nbformat": 4,
 "nbformat_minor": 5
}
